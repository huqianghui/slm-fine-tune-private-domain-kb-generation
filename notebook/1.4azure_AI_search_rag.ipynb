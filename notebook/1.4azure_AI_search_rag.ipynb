{
 "cells": [
  {
   "cell_type": "markdown",
   "metadata": {},
   "source": [
    "# Retrieval Augmented Generation"
   ]
  },
  {
   "cell_type": "markdown",
   "metadata": {},
   "source": [
    "## Setup API clients"
   ]
  },
  {
   "cell_type": "code",
   "execution_count": 1,
   "metadata": {},
   "outputs": [],
   "source": [
    "import os\n",
    "\n",
    "import dotenv\n",
    "from openai import AzureOpenAI\n",
    "from azure.search.documents import SearchClient\n",
    "from azure.core.credentials import AzureKeyCredential\n",
    "from azure.search.documents.models import VectorizedQuery\n",
    "\n",
    "dotenv.load_dotenv()\n",
    "\n",
    "openai_client = AzureOpenAI(\n",
    "        api_key=os.getenv(\"aozai_api_key\"),  \n",
    "        api_version=os.getenv(\"aoai_llm_api_version\"),\n",
    "        azure_endpoint=os.getenv(\"aoai_resource_uri\")\n",
    "    )\n",
    "\n",
    "def get_embedding(text):\n",
    "    get_embeddings_response = openai_client.embeddings.create(model=os.getenv(\"aoai_embedding_model_name\"), input=text)\n",
    "    return get_embeddings_response.data[0].embedding\n",
    "\n",
    "# Initialize Azure search client\n",
    "AZURE_SEARCH_ENDPOINT = os.getenv(\"AZURE_SEARCH_ENDPOINT\")\n",
    "search_creds = AzureKeyCredential(os.getenv(\"AZURE_SEARCH_API_KEY\"))\n",
    "\n",
    "AZURE_SEARCH_FULL_INDEX = \"envision-qa-index\"\n",
    "search_client = SearchClient(AZURE_SEARCH_ENDPOINT, AZURE_SEARCH_FULL_INDEX, credential=search_creds)\n"
   ]
  },
  {
   "cell_type": "markdown",
   "metadata": {},
   "source": [
    "## Prepare user question"
   ]
  },
  {
   "cell_type": "code",
   "execution_count": null,
   "metadata": {},
   "outputs": [],
   "source": [
    "user_question = \"咨询电脑下载腾讯会议软件问题\"\n",
    "user_question_vector = get_embedding(user_question)"
   ]
  },
  {
   "cell_type": "markdown",
   "metadata": {},
   "source": [
    "## Retrieve matching documents\n",
    "\n",
    "The search call below does a **hybrid search**, performing both a full-text search and a vector search in parallel.\n",
    "It merges those results using Reciprocal Rank Fusion (RRF). \n",
    "Finally, it re-ranks the merged results using the AI Search semantic ranker, a re-ranking model."
   ]
  },
  {
   "cell_type": "code",
   "execution_count": null,
   "metadata": {},
   "outputs": [
    {
     "name": "stdout",
     "output_type": "stream",
     "text": [
      "[role_library-28.png]: · Knowledge of industry trends, technologies, and regulations.\n",
      "· Excellent communication and presentation skills.\n",
      "Manager of Product Management\n",
      "Job Title: Manager of Product Management, Contoso Electronics\n",
      "Job Summary:\n",
      "The Manager of Product Management is responsible for overseeing the product management team, driving product development and marketing strategy for Contoso Electronics. This individual will be accountable for the successful launch of new products and the implementation of product life-cycle management processes. The Manager of Product Management will collaborate with internal teams, such as engineering, sales, marketing, and finance, as well as external partners, suppliers, and customers to ensure successful product execution.\n",
      "Responsibilities:\n",
      "· Lead the product management team and provide guidance on product strategy, design, development, and launch.\n",
      "· Develop and implement product life-cycle management processes.\n",
      "· Monitor and analyze industry trends to identify opportunities for new products.\n",
      "· Develop product marketing plans and go-to-market strategies.\n",
      "· Research customer needs and develop customer-centric product roadmaps.\n",
      "· Collaborate with internal teams to ensure product execution and successful launch.\n",
      "· Develop pricing strategies and cost models.\n",
      "· Oversee product portfolio and performance metrics.\n",
      "· Manage product development budget.\n",
      "· Analyze product performance and customer feedback to identify areas for improvement.\n",
      "Qualifications:\n",
      "· Bachelor's degree in business, engineering, or a related field.\n",
      "· At least 5 years of experience in product management.\n",
      "· Proven track record of successful product launches.\n",
      "· Strong understanding of product life-cycle management processes.\n",
      "· Excellent project management, organizational, and communication skills.\n",
      ". Ability to work collaboratively with internal and external teams.\n",
      "· Ability to analyze customer feedback and identify areas for improvement.\n",
      "· Experience with market research, product marketing, and pricing strategies.\n",
      "· Knowledge of budgeting and cost models.\n",
      "\n",
      "\n",
      "[role_library-28.png]:  The Manager of Product Management will collaborate with internal teams, such as engineering, sales, marketing, and finance, as well as external partners, suppliers, and customers to ensure successful product execution.\n",
      "Responsibilities:\n",
      "· Lead the product management team and provide guidance on product strategy, design, development, and launch.\n",
      "· Develop and implement product life-cycle management processes.\n",
      "· Monitor and analyze industry trends to identify opportunities for new products.\n",
      "· Develop product marketing plans and go-to-market strategies.\n",
      "· Research customer needs and develop customer-centric product roadmaps.\n",
      "· Collaborate with internal teams to ensure product execution and successful launch.\n",
      "· Develop pricing strategies and cost models.\n",
      "· Oversee product portfolio and performance metrics.\n",
      "· Manage product development budget.\n",
      "· Analyze product performance and customer feedback to identify areas for improvement.\n",
      "Qualifications:\n",
      "· Bachelor's degree in business, engineering, or a related field.\n",
      "· At least 5 years of experience in product management.\n",
      "· Proven track record of successful product launches.\n",
      "\n",
      "\n",
      "[role_library-27.png]: \n",
      "· 7+ years of experience in research and development in the electronics sector.\n",
      "· Proven track record of successfully designing, testing, and optimizing products.\n",
      "· Experience leading a team of researchers and engineers.\n",
      "· Excellent problem-solving and analytical skills.\n",
      ". Ability to work in a fast-paced environment and meet tight deadlines.· Knowledge of industry trends, technologies, and regulations.\n",
      "· Excellent communication and presentation skills.\n",
      "Manager of Product Management\n",
      "Job Title: Manager of Product Management, Contoso Electronics\n",
      "Job Summary:\n",
      "The Manager of Product Management is responsible for overseeing the product management team, driving product development and marketing strategy for Contoso Electronics. This individual will be accountable for the successful launch of new products and the implementation of product life-cycle management processes. The Manager of Product Management will collaborate with internal teams, such as engineering, sales, marketing, and finance, as well as external partners, suppliers, and customers to ensure successful product execution.\n",
      "\n",
      "\n",
      "[role_library-22.png]: Company: Contoso Electronics\n",
      "Location: Anywhere\n",
      "Job Type: Full-Time\n",
      "Salary: Competitive, commensurate with experience\n",
      "Job Summary:\n",
      "The Senior Manager of Product Management will be responsible for leading the product management team at Contoso Electronics. This role includes developing strategies, plans and objectives for the product management team and managing the day-to-day operations. The Senior Manager of Product Management will be responsible for the successful launch of new products and the optimization of existing products.\n",
      "Responsibilities:\n",
      "· Develop and implement product management strategies, plans and objectives to maximize team performance.\n",
      "· Analyze competitive landscape and market trends to develop product strategies.\n",
      "· Lead the product management team in the development of product plans, roadmaps and launch plans.\n",
      "· Monitor the performance of product management team, analyze results and implement corrective action as needed.\n",
      "· Manage the product lifecycle, including product development, launch, and end of life.\n",
      "· Ensure product features and benefits meet customer requirements.\n",
      "· Establish and maintain relationships with key customers, partners, and vendors.\n",
      "\n",
      "\n",
      "[role_library-10.png]: \n",
      "· Proven track record of successful product launches.\n",
      "· Excellent organizational and project management skills.\n",
      "· Ability to work independently and effectively in a fast-paced environment.\n",
      "· Excellent problem-solving and analytical skills.\n",
      "· Strong interpersonal and communication skills.\n",
      "· Knowledge of relevant technology, products, and industry trends.\n",
      "Vice President of Product Management\n",
      "Job Title: Vice President of Product Management\n",
      "Company: Contoso Electronics\n",
      "Location: Anywhere, USA\n",
      "Job Type: Full-time\n",
      "Salary: Competitive Salary & Benefits\n",
      "Job Summary:The Vice President of Product Management will lead the product management team and be responsible for developing, executing and managing product strategy and roadmap. This individual will be the key leader in driving product innovation and ensuring that Contoso Electronics meets the highest standards of product quality and customer satisfaction.\n",
      "Responsibilities:\n",
      "· Lead and manage the product management team, including setting team goals and objectives, hiring, training, and developing team members, and evaluating performance\n",
      "· Develop and \n",
      "\n"
     ]
    }
   ],
   "source": [
    "r = search_client.search(\n",
    "        user_question,\n",
    "        top=3, \n",
    "        vector_queries=[\n",
    "                VectorizedQuery(vector=user_question_vector, k_nearest_neighbors=50, fields=\"question_embedding,answer_embedding\")],\n",
    "        query_type=\"semantic\",\n",
    "        semantic_configuration_name=\"default\")\n",
    "\n",
    "sources = \"\\n\\n\".join([f\"[{doc['sourcepage']}]: {doc['content']}\\n\" for doc in r])\n",
    "\n",
    "print(sources)"
   ]
  },
  {
   "cell_type": "markdown",
   "metadata": {},
   "source": [
    "## Send question and documents to the model"
   ]
  },
  {
   "cell_type": "code",
   "execution_count": 4,
   "metadata": {},
   "outputs": [
    {
     "name": "stdout",
     "output_type": "stream",
     "text": [
      "A product manager is responsible for overseeing the product management team, driving product development and marketing strategy, and ensuring successful product execution [role_library-28.png]. They collaborate with internal teams such as engineering, sales, marketing, and finance, as well as external partners, suppliers, and customers [role_library-28.png]. They develop and implement product life-cycle management processes, monitor industry trends, develop product marketing plans and go-to-market strategies, research customer needs, collaborate with internal teams, develop pricing strategies and cost models, oversee product portfolio and performance metrics, manage product development budget, and analyze product performance and customer feedback [role_library-28.png]. They should have a bachelor's degree in business, engineering, or a related field and at least 5 years of experience in product management with a proven track record of successful product launches [role_library-28.png]. They should also have excellent project management, organizational, communication, problem-solving, and analytical skills [role_library-28.png][role_library-27.png][role_library-10.png].\n"
     ]
    }
   ],
   "source": [
    "SYSTEM_MESSAGE = \"\"\"\n",
    "Assistant helps company employees questions about the employee handbook. Be brief in your answers.\n",
    "Answer ONLY with the facts listed in the list of sources below.\n",
    "If there isn't enough information below, say you don't know. Do not generate answers that don't use the sources below.\n",
    "Each source has a name followed by colon and the actual information, include the source name for each fact you use.\n",
    "Use square brackets to reference the source, for example [info1.txt].\n",
    "\"\"\"\n",
    "USER_MESSAGE = user_question + \"\\nSources: \" + sources\n",
    "\n",
    "# Now we can use the matches to generate a response\n",
    "response = openai_client.chat.completions.create(\n",
    "    model=os.getenv(\"AZURE_OPENAI_DEPLOYMENT_NAME\"),\n",
    "    temperature=0.7,\n",
    "    messages=[\n",
    "        {\"role\": \"system\", \"content\": SYSTEM_MESSAGE},\n",
    "        {\"role\": \"user\", \"content\": USER_MESSAGE},\n",
    "    ],\n",
    ")\n",
    "\n",
    "answer = response.choices[0].message.content\n",
    "print(answer)"
   ]
  }
 ],
 "metadata": {
  "kernelspec": {
   "display_name": ".venv",
   "language": "python",
   "name": "python3"
  },
  "language_info": {
   "codemirror_mode": {
    "name": "ipython",
    "version": 3
   },
   "file_extension": ".py",
   "mimetype": "text/x-python",
   "name": "python",
   "nbconvert_exporter": "python",
   "pygments_lexer": "ipython3",
   "version": "3.10.11"
  }
 },
 "nbformat": 4,
 "nbformat_minor": 2
}
