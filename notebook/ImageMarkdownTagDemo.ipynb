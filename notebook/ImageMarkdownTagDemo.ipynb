{
 "cells": [
  {
   "cell_type": "code",
   "execution_count": 1,
   "metadata": {},
   "outputs": [],
   "source": [
    "import os\n",
    "from dataclasses import dataclass\n",
    "\n",
    "from IPython.display import Markdown\n",
    "from dotenv import load_dotenv\n",
    "from azure.core.credentials import AzureKeyCredential\n",
    "from azure.ai.documentintelligence import DocumentIntelligenceClient\n",
    "from azure.ai.documentintelligence.models import (\n",
    "    ContentFormat,\n",
    "    AnalyzeDocumentRequest,\n",
    "    DocumentAnalysisFeature,\n",
    ")\n",
    "USE_DOC_INTEL_PREVIEW_VERSION = True\n",
    "DOC_INTEL_MODEL_ID = \"prebuilt-layout\" # E.g. \"prebuilt-read\", \"prebuilt-layout\", or \"prebuilt-document\"\n",
    "\n",
    "# Possible Document Intelligence features\n",
    "# v4.0 (Preview): ['ocrHighResolution', 'languages', 'barcodes', 'formulas', 'styleFont', 'keyValuePairs', 'queryFields']\n",
    "# v3.3 (GA):      ['ocrHighResolution', 'languages', 'barcodes', 'formulas', 'styleFont']\n",
    "DOC_INTEL_FEATURES = ['ocrHighResolution', 'languages', 'styleFont']\n",
    "\n",
    "DOC_INTEL_ENDPOINT = os.getenv(\"AZURE_DOCUMENT_INTELLIGENCE_ENDPOINT\")\n",
    "DOC_INTEL_API_KEY = os.getenv(\"AZURE_DOCUMENT_INTELLIGENCE_API_KEY\")"
   ]
  },
  {
   "cell_type": "code",
   "execution_count": 2,
   "metadata": {},
   "outputs": [],
   "source": [
    "di_client = DocumentIntelligenceClient(\n",
    "        endpoint=DOC_INTEL_ENDPOINT, \n",
    "        credential=AzureKeyCredential(DOC_INTEL_API_KEY),\n",
    "        api_version=\"2024-07-31-preview\",\n",
    "    )\n",
    "enabled_features = [DocumentAnalysisFeature(feature) for feature in DOC_INTEL_FEATURES]\n",
    "\n"
   ]
  },
  {
   "cell_type": "code",
   "execution_count": 3,
   "metadata": {},
   "outputs": [],
   "source": [
    "pdf_path = \"../raw_documents/pdf/oral_cancer_text_5th_table&image.pdf\""
   ]
  },
  {
   "cell_type": "code",
   "execution_count": 4,
   "metadata": {},
   "outputs": [],
   "source": [
    "import base64\n",
    "\n",
    "def convert_pdf_to_base64(pdf_path: str):\n",
    "    # Read the PDF file in binary mode, encode it to base64, and decode to string\n",
    "    with open(pdf_path, \"rb\") as file:\n",
    "        base64_encoded_pdf = base64.b64encode(file.read()).decode()\n",
    "    return base64_encoded_pdf\n",
    "analyze_request = AnalyzeDocumentRequest(bytes_source=convert_pdf_to_base64(pdf_path))\n",
    "\n",
    "poller = di_client.begin_analyze_document(\n",
    "            model_id=DOC_INTEL_MODEL_ID,\n",
    "            analyze_request=analyze_request,\n",
    "            output_content_format=ContentFormat.MARKDOWN,\n",
    "            features=enabled_features\n",
    "        )\n",
    "analyzedDocumentResult = poller.result()"
   ]
  },
  {
   "cell_type": "code",
   "execution_count": 5,
   "metadata": {},
   "outputs": [],
   "source": [
    "import sys\n",
    "import os\n",
    "from dotenv import load_dotenv\n",
    "\n",
    "load_dotenv(\"/home/azureuser/slm-fine-tune-private-domain-kb-generation/.env\")\n",
    "sys.path.append(os.path.abspath(os.path.join('..')))\n",
    "markdown_img_tag_path_or_url = os.getenv(\"MARKDOWN_IMG_TAG_PATH_OR_URL\")"
   ]
  },
  {
   "cell_type": "code",
   "execution_count": 6,
   "metadata": {},
   "outputs": [
    {
     "name": "stdout",
     "output_type": "stream",
     "text": [
      "Error processing element /figures/0 (start_page_number: 1).\n",
      "Exception: 'async_generator' object is not iterable\n",
      "Element info: ElementInfo(element_id='/figures/0', element={'id': '1.1', 'boundingRegions': [{'pageNumber': 1, 'polygon': [4.1959, 1.4486, 7.3516, 1.4488, 7.3514, 5.1379, 4.1957, 5.1377]}], 'spans': [{'offset': 962, 'length': 202}], 'elements': ['/paragraphs/12', '/paragraphs/13', '/paragraphs/14', '/paragraphs/15', '/paragraphs/16', '/paragraphs/17', '/paragraphs/18', '/paragraphs/19', '/paragraphs/20', '/paragraphs/21', '/paragraphs/22', '/paragraphs/23'], 'caption': {'content': 'Fig. 5.1 Schematic indicating the location of the lymph node levels in the neck as described in Table 5.1', 'boundingRegions': [{'pageNumber': 1, 'polygon': [4.1896, 5.2764, 7.332, 5.2758, 7.332, 5.5387, 4.1896, 5.5393]}], 'spans': [{'offset': 983, 'length': 105}], 'elements': ['/paragraphs/24']}}, full_span_bounds=SpanBounds(offset=962, end=1164), spans=[{'offset': 962, 'length': 202}], start_page_number=1, section_heirarchy_incremental_id=(2,))\n"
     ]
    }
   ],
   "source": [
    "from docProcess.customizedProcess.markdownImageTagFigureProcessor import MarkdownImageTagDocumentFigureProcessor\n",
    "from docProcess.azureDocIntelligResultPostProcessor import DocumentIntelligenceResultPostProcessor\n",
    "from docProcess.fileTools import extract_pdf_page_images, load_pymupdf_pdf\n",
    "\n",
    "# config the figure processor\n",
    "figure_processor = MarkdownImageTagDocumentFigureProcessor(\n",
    "    before_figure_text_formats=[\"*Figure Caption:* {caption}\"],\n",
    "    output_figure_img=True,\n",
    "    figure_img_text_format=\"*Figure Content:*\\n{content}\",\n",
    "    after_figure_text_formats=None,\n",
    "    markdown_img_tag_path_or_url=markdown_img_tag_path_or_url\n",
    ")\n",
    "\n",
    "# config the post processor with markdown figure processor\n",
    "doc_intel_result_processor = DocumentIntelligenceResultPostProcessor(\n",
    "    figure_processor = figure_processor)\n",
    "\n",
    "pdf = load_pymupdf_pdf(pdf_path=pdf_path, pdf_url=None)\n",
    "doc_page_imgs = extract_pdf_page_images(pdf, img_dpi=100, starting_idx=1)\n",
    "\n",
    "processed_content_docs = await doc_intel_result_processor.process_analyze_result(\n",
    "        analyzedDocumentResult,\n",
    "        doc_page_imgs=doc_page_imgs\n",
    "    )\n"
   ]
  },
  {
   "cell_type": "code",
   "execution_count": null,
   "metadata": {},
   "outputs": [],
   "source": [
    "from docProcess.docIntelligElementTools import convert_processed_di_docs_to_markdown\n",
    "\n",
    "processed_content_md = await convert_processed_di_docs_to_markdown(processed_content_docs, default_text_merge_separator=\"\\n\")\n",
    "\n",
    "Markdown(processed_content_md)"
   ]
  },
  {
   "cell_type": "code",
   "execution_count": null,
   "metadata": {},
   "outputs": [],
   "source": []
  }
 ],
 "metadata": {
  "kernelspec": {
   "display_name": ".venv",
   "language": "python",
   "name": "python3"
  },
  "language_info": {
   "codemirror_mode": {
    "name": "ipython",
    "version": 3
   },
   "file_extension": ".py",
   "mimetype": "text/x-python",
   "name": "python",
   "nbconvert_exporter": "python",
   "pygments_lexer": "ipython3",
   "version": "3.10.11"
  }
 },
 "nbformat": 4,
 "nbformat_minor": 2
}
