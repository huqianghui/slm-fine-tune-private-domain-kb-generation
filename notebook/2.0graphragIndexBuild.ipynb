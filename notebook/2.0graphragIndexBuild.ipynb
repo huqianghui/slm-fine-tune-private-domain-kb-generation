{
 "cells": [
  {
   "cell_type": "code",
   "execution_count": null,
   "metadata": {
    "vscode": {
     "languageId": "plaintext"
    }
   },
   "outputs": [],
   "source": [
    "graphrag init --root ./graphragProcess"
   ]
  },
  {
   "cell_type": "code",
   "execution_count": null,
   "metadata": {
    "vscode": {
     "languageId": "plaintext"
    }
   },
   "outputs": [],
   "source": [
    "graphrag prompt-tune --config graphProcess/settings.yaml \\\n",
    "--root ./graphragProcess \\\n",
    "--domain \"oral cancer\" \\\n",
    "--limit 10 \\\n",
    "--chunk-size 2000 \\\n",
    "--discover-entity-types \\\n",
    "--output /home/azureuser/slm-fine-tune-private-domain-kb-generation/graphProcess/output"
   ]
  },
  {
   "cell_type": "code",
   "execution_count": null,
   "metadata": {
    "vscode": {
     "languageId": "plaintext"
    }
   },
   "outputs": [],
   "source": [
    "graphrag index --root ./graphragProcess"
   ]
  }
 ],
 "metadata": {
  "language_info": {
   "name": "python"
  }
 },
 "nbformat": 4,
 "nbformat_minor": 2
}
